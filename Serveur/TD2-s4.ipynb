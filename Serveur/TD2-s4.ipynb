{
 "cells": [
  {
   "cell_type": "code",
   "execution_count": 0,
   "metadata": {
    "collapsed": false
   },
   "outputs": [
   ],
   "source": [
    "import http.server\n",
    "import socketserver\n",
    "import datetime\n",
    "import sqlite3\n",
    "\n",
    "\n",
    "\n",
    "\n",
    "class RequestHandler(http.server.SimpleHTTPRequestHandler): # définition du nouveau handler, classe dérivée de http.server.SimpleHTTPRequestHandler\n",
    "\n",
    "    static_dir = '/client' # sous-répertoire racine des documents statiques\n",
    "    \n",
    "    def do_GET(self): # on surcharge la méthode qui traite les requêtes GET       \n",
    "        if self.path[0:5]!='/time' and self.path[0:10]!='/countries' :\n",
    "            self.path = self.static_dir + self.path  # on modifie le chemin d'accès en insérant un répertoire préfixe \n",
    "            http.server.SimpleHTTPRequestHandler.do_GET(self) # on traite la requête via la classe parent\n",
    "           \n",
    "        \n",
    "        if self.path[0:5]=='/time':  #si le chemin se termine par '/time'\n",
    "            affichage_date=datetime.datetime.today().ctime()           \n",
    "            response='<!DOCTYPE html><title>hello</title>' + \\\n",
    "\"<meta charset='utf-8'><p>Voici l'heure du serveur : {} GMT </p>\"\\\n",
    ".format(affichage_date)\n",
    "            self.send(response)      \n",
    "            \n",
    "        \n",
    "        if self.path[0:10]=='/countries':\n",
    "            conn=sqlite3.connect('pays.sqlite')\n",
    "            c=conn.cursor()\n",
    "            c.execute(\"SELECT name FROM countries\")\n",
    "            a=c.fetchall()\n",
    "            liste_pays=[a[i][0] for i in range(len(a))]  #stocke la liste des tables de la database (strings)\n",
    "            \n",
    "            \n",
    "            if  len(liste_pays)==0:\n",
    "                response='<!DOCTYPE html><title>hello</title>' + \\\n",
    "\"<meta charset='utf-8'><p>Pas de pays dans la database  </p>\"\n",
    "                self.send(response)              \n",
    "                \n",
    "                \n",
    "            else:               \n",
    "                        \n",
    "                response='<!DOCTYPE html><title>hello</title>' + \\\n",
    "\"<meta charset='utf-8'><p>Liste des pays :  </p>\" \n",
    "                \n",
    "                \n",
    "                for i in range(len(liste_pays)):\n",
    "                    response=response + \\\n",
    "\"<meta charset='utf-8'><p>\"+\"[\"+str(i+1)+\"] - \"+liste_pays[i]+\"</p>\"                       \n",
    "                self.send(response)\n",
    "\n",
    "            \n",
    "            \n",
    "            \n",
    "            \n",
    "            \n",
    "            \n",
    "            \n",
    "            \n",
    "            \n",
    "\n",
    "    def send(self,body,headers=[]):     \n",
    "        \n",
    "        encoded = bytes(body, 'UTF-8')  # on encode la chaine de caractères à envoyer, body est une string           \n",
    "        self.send_response(200)   # on envoie la ligne de statut       \n",
    "        [self.send_header(*t) for t in headers] # on envoie les lignes d'entête et la ligne vide\n",
    "        self.send_header('Content-Length',int(len(encoded)))\n",
    "        self.end_headers()        \n",
    "        self.wfile.write(encoded) # on envoie le corps de la réponse\n",
    "\n",
    "    \n",
    "httpd = socketserver.TCPServer((\"\", 8080), RequestHandler)# instanciation et lancement du serveur\n",
    "httpd.serve_forever()"
   ]
  }
 ],
 "metadata": {
  "kernelspec": {
   "display_name": "Python 3 (system-wide)",
   "language": "python",
   "metadata": {
    "cocalc": {
     "description": "Python 3 programming language",
     "priority": 100,
     "url": "https://www.python.org/"
    }
   },
   "name": "python3"
  },
  "language_info": {
   "codemirror_mode": {
    "name": "ipython",
    "version": 3
   },
   "file_extension": ".py",
   "mimetype": "text/x-python",
   "name": "python",
   "nbconvert_exporter": "python",
   "pygments_lexer": "ipython3",
   "version": "3.6.9"
  }
 },
 "nbformat": 4,
 "nbformat_minor": 4
}