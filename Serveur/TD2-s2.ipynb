{
 "cells": [
  {
   "cell_type": "code",
   "execution_count": 1,
   "metadata": {
    "collapsed": false
   },
   "outputs": [
   ],
   "source": [
    "import http.server\n",
    "import socketserver\n",
    "\n",
    "\n",
    "\n",
    "class RequestHandler(http.server.SimpleHTTPRequestHandler): # définition du nouveau handler, classe dérivée de http.server.SimpleHTTPRequestHandler\n",
    "\n",
    "    static_dir = '/client' # sous-répertoire racine des documents statiques\n",
    "    \n",
    "    def do_GET(self): # on surcharge la méthode qui traite les requêtes GET       \n",
    "        self.path = self.static_dir + self.path  # on modifie le chemin d'accès en insérant un répertoire préfixe       \n",
    "        http.server.SimpleHTTPRequestHandler.do_GET(self) # on traite la requête via la classe parent\n",
    "        \n",
    "    \n",
    "httpd = socketserver.TCPServer((\"\", 8080), RequestHandler)# instanciation et lancement du serveur\n",
    "httpd.serve_forever()"
   ]
  },
  {
   "cell_type": "code",
   "execution_count": 0,
   "metadata": {
    "collapsed": false
   },
   "outputs": [
   ],
   "source": [
   ]
  },
  {
   "cell_type": "code",
   "execution_count": 0,
   "metadata": {
    "collapsed": false
   },
   "outputs": [
   ],
   "source": [
   ]
  }
 ],
 "metadata": {
  "kernelspec": {
   "display_name": "Python 3 (system-wide)",
   "language": "python",
   "metadata": {
    "cocalc": {
     "description": "Python 3 programming language",
     "priority": 100,
     "url": "https://www.python.org/"
    }
   },
   "name": "python3"
  },
  "language_info": {
   "codemirror_mode": {
    "name": "ipython",
    "version": 3
   },
   "file_extension": ".py",
   "mimetype": "text/x-python",
   "name": "python",
   "nbconvert_exporter": "python",
   "pygments_lexer": "ipython3",
   "version": "3.6.9"
  }
 },
 "nbformat": 4,
 "nbformat_minor": 4
}