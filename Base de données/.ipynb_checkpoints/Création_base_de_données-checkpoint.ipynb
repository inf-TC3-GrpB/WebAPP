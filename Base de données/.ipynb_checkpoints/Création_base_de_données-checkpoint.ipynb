{
 "cells": [
  {
   "cell_type": "markdown",
   "metadata": {},
   "source": [
    "# <center>Informatique tc3 (Projet Web) - TD1</center>"
   ]
  },
  {
   "cell_type": "markdown",
   "metadata": {},
   "source": [
    "## <center style=\"color: #66d\">Récupération, mise en forme, et stockage de données via Python / SQLite</center>"
   ]
  },
  {
   "cell_type": "markdown",
   "metadata": {},
   "source": [
    "Dans le cadre de ce TD nous récupérerons en ligne des données concernant des pays, que nous mettrons en forme et stockerons dans une base de données afin de les utiliser pour obtenir des représentations graphiques, tout cela à l'aide de Python."
   ]
  },
  {
   "cell_type": "markdown",
   "metadata": {},
   "source": [
    "<h3 style=\"background-color:#eef; padding:0.5em\">1. Contexte et mise en place des outils"
   ]
  },
  {
   "cell_type": "markdown",
   "metadata": {},
   "source": [
    "La page wikipédia d'un pays (cf. par exemple https://en.wikipedia.org/wiki/Zimbabwe) donne de nombreuses informations, souvent peu structurées (texte de la page) mais dont certaines le sont suffisament pour pouvoir donner lieu à un traitement automatique (cf. boîte d'informations située à droite de la page) :\n",
    "<img src=\"infobox.png\">\n",
    "<div style=\"text-align:center; font-size:80%; margin-top:0.5em\">Partie supérieure de la boîte d'information relative au Zimbabwe</div>"
   ]
  },
  {
   "cell_type": "markdown",
   "metadata": {
    "collapsed": true
   },
   "source": [
    "On peut ainsi espérer récupérer des informations comme le nom officiel du pays, un lien vers une image du drapeau, une devise, un lien vers l'hymne national, le nom et les coordonnées géographiques de la capitale, le nombre d'habitants, *etc.*"
   ]
  },
  {
   "cell_type": "markdown",
   "metadata": {},
   "source": [
    "L'objectif étant de réaliser une application délivrant des informations sur de nombreux pays, il n'est pas envisageable d'interrroger wikipédia à chaque fois. La construction de notre application passera donc par une phase d'initialisation lors de laquelle les informations nécessaires seront récupérées, puis stockées dans une base de données pour être réutilisées par la suite."
   ]
  },
  {
   "cell_type": "markdown",
   "metadata": {},
   "source": [
    "Le système de gestion de base de données qui sera utilisé pour la suite de ce TD et pour votre projet est SQLite. Ce système très simple fonctionne en stockant une base de données dans un fichier unique au format <code>.sqlite</code>."
   ]
  },
  {
   "cell_type": "markdown",
   "metadata": {},
   "source": [
    "<b>1.1. Analyse des pages Wikipédia :</b>\n",
    "    \n",
    "Pour récupérer les informations qui nous intéressent, il n'est pas question d'aspirer le contenu des  pages au format html, car d'une page Wikipédia à l'autre, html n'est pas utilisé de manière suffisamment structurée pour y retrouver les données.\n",
    "\n",
    "On peut alors penser au format wiki, qui correspond au code source tell qu'il est édité par les auteurs. On peut en avoir un aperçu à l'adresse : https://en.wikipedia.org/w/index.php?title=Zimbabwe&action=edit. Attention toutefois à ne pas en profiter pour modifier la page.\n",
    "\n",
    "Ce format est plus structurant et devrait pouvoir être analysé pour en extraire les informations...\n",
    "\n",
    "Pensons-nous être les premiers à nous poser cette question ? Sans doute pas :<br>\n",
    "cf. https://stackoverflow.com/questions/3312346/how-to-get-the-infobox-data-from-wikipedia\n",
    "\n",
    "Il existe différentes solutions pour récupérer les informations que nous recherchons, comme par exemple <a href=\"https://www.wikidata.org/wiki/Wikidata:Introduction/fr\">wikidata</a>, une base de données en ligne, libre, collaborative, et multilingue, qui collecte des données structurées pour alimenter entre autres Wikipédia et Wikimedia Commons. Toutefois, pour des raisons à la fois pédagogiques et de simplicité, nous nous bornerons à analyser le contenu des pages wikipédia, technique connue sous le nom de <a href=\"https://en.wikipedia.org/wiki/Web_scraping\">Web scraping</a>.\n",
    "\n",
    "Nous utiliserons pour cela le module <code>wptools</code> disponible sur Github.\n",
    "Si votre poste est correctment configuré avec la distribution Anaconda, le moyen le plus simple de l'installer est de lancer la commande suivante dans une fenêtre terminal (en ajoutant éventuellement l'option <tt>--user</tt> en cas d'échec) :"
   ]
  },
  {
   "cell_type": "raw",
   "metadata": {},
   "source": [
    "pip install wptools"
   ]
  },
  {
   "cell_type": "markdown",
   "metadata": {},
   "source": [
    "<div style=\"background-color:#dde;padding:10px;border-radius:3px\">\n",
    "<b>Etape 1 - </b> Installer <code>wptools</code>, puis, après avoir redémarré le noyau du notebook (cf. icône <img src=\"restart_kernel.png\" style=\"display:inline; position:relative; top:-10px\">), exécuter la cellule suivante qui ne devrait pas produire d'erreur&nbsp;:"
   ]
  },
  {
   "cell_type": "code",
   "execution_count": 1,
   "metadata": {},
   "outputs": [],
   "source": [
    "#\n",
    "# import du module d'analyse des pages wikipédia\n",
    "#\n",
    "\n",
    "\n",
    "import wptools"
   ]
  },
  {
   "cell_type": "markdown",
   "metadata": {
    "collapsed": true
   },
   "source": [
    "<b>1.2. Récupération d'information depuis une page Wikipédia :</b>\n",
    "\n",
    "Premier essai :"
   ]
  },
  {
   "cell_type": "code",
   "execution_count": 2,
   "metadata": {
    "scrolled": true
   },
   "outputs": [
    {
     "name": "stderr",
     "output_type": "stream",
     "text": [
      "en.wikipedia.org (parse) Zimbabwe\n"
     ]
    },
    {
     "data": {
      "text/plain": [
       "{'conventional_long_name': 'Republic of Zimbabwe',\n",
       " 'common_name': 'Zimbabwe',\n",
       " 'native_name': '{{collapsible list\\n| titlestyle             |=| background:transparent;text-align:center;line-height:normal;font-size:84%;\\n| title                  |=| 13 other official names\\n| |Infobox|subbox|=|yes|bodystyle|=|font-size:77%;font-weight:normal;\\n| rowclass1 |=| mergedrow | label1 |=| [[Shona language|Shona]]:\\n| data1 |=| |lang|sn|Nyika yeZimbabwe|\\n| rowclass2 |=| mergedrow | label2 |=| [[Northern Ndebele language|Ndebele]]:\\n| data2 |=| |lang|nd|Ilizwe leZimbabwe|\\n| rowclass3 |=| mergedrow | label3 |=| [[Chewa language|Chewa]]:\\n| data3 |=| |lang|ny|Dziko la Zimbabwe|\\n| rowclass4 |=| mergedrow | label4 |=| [[Sena language|Chibarwe]]:\\n| data4 |=| |lang|bwg|Dziko la Zimbabwe|\\n| rowclass5 |=| mergedrow | label5 |=| [[Kalanga language|Kalanga]]:\\n| data5 |=| |lang|kck|Hango yeZimbabwe|\\n| rowclass6 |=| mergedrow | label6 |=| [[Tshwa language|Khoisan]]:\\n| data6 |=| |lang|st|Zimbabwe Nù|\\n| rowclass7 |=| mergedrow | label7 |=| [[Nambya language|Nambya]]:\\n| data7 |=| |lang|nmq|Inyika yeZimbabwe|\\n| rowclass8 |=| mergedrow | label8 |=| [[Ndau dialect|Ndau]]:\\n| data8 |=| |lang|ndc|Nyika yeZimbabwe|\\n| rowclass9 |=| mergedrow | label9 |=| [[Tsonga language|Shangani]]:\\n| data9 |=| |lang|ts|Tiko ra Zimbabwe|\\n| rowclass10 |=| mergedrow| label10 |=| [[Sesotho language|Sesotho]]:\\n| data10 |=| |lang|st|Naha ya Zimbabwe|\\n| rowclass11 |=| mergedrow| label11 |=| [[Tonga language (Zambia and Zimbabwe)|Tonga]]:\\n| data11 |=| |lang|st|Cisi ca Zimbabwe|\\n| rowclass12 |=| mergedrow| label12 |=| [[Venda language|Venda]]:\\n| data12 |=| |lang|ve|Shango ḽa Zimbabwe|\\n| rowclass13 |=| mergedrow| label13 |=| [[Xhosa language|Xhosa]]:\\n| data13 |=| |lang|xh|Ilizwe leZimbabwe|\\n|}} {{Infobox|subbox|=|yes|bodystyle|=|font-size:77%;font-weight:normal;\\n| rowclass1 |=| mergedrow | label1 |=| [[Shona language|Shona]]:\\n| data1 |=| |lang|sn|Nyika yeZimbabwe|\\n| rowclass2 |=| mergedrow | label2 |=| [[Northern Ndebele language|Ndebele]]:\\n| data2 |=| |lang|nd|Ilizwe leZimbabwe|\\n| rowclass3 |=| mergedrow | label3 |=| [[Chewa language|Chewa]]:\\n| data3 |=| |lang|ny|Dziko la Zimbabwe|\\n| rowclass4 |=| mergedrow | label4 |=| [[Sena language|Chibarwe]]:\\n| data4 |=| |lang|bwg|Dziko la Zimbabwe|\\n| rowclass5 |=| mergedrow | label5 |=| [[Kalanga language|Kalanga]]:\\n| data5 |=| |lang|kck|Hango yeZimbabwe|\\n| rowclass6 |=| mergedrow | label6 |=| [[Tshwa language|Khoisan]]:\\n| data6 |=| |lang|st|Zimbabwe Nù|\\n| rowclass7 |=| mergedrow | label7 |=| [[Nambya language|Nambya]]:\\n| data7 |=| |lang|nmq|Inyika yeZimbabwe|\\n| rowclass8 |=| mergedrow | label8 |=| [[Ndau dialect|Ndau]]:\\n| data8 |=| |lang|ndc|Nyika yeZimbabwe|\\n| rowclass9 |=| mergedrow | label9 |=| [[Tsonga language|Shangani]]:\\n| data9 |=| |lang|ts|Tiko ra Zimbabwe|\\n| rowclass10 |=| mergedrow| label10 |=| [[Sesotho language|Sesotho]]:\\n| data10 |=| |lang|st|Naha ya Zimbabwe|\\n| rowclass11 |=| mergedrow| label11 |=| [[Tonga language (Zambia and Zimbabwe)|Tonga]]:\\n| data11 |=| |lang|st|Cisi ca Zimbabwe|\\n| rowclass12 |=| mergedrow| label12 |=| [[Venda language|Venda]]:\\n| data12 |=| |lang|ve|Shango ḽa Zimbabwe|\\n| rowclass13 |=| mergedrow| label13 |=| [[Xhosa language|Xhosa]]:\\n| data13 |=| |lang|xh|Ilizwe leZimbabwe|}} {{lang|sn|Nyika yeZimbabwe}} {{lang|nd|Ilizwe leZimbabwe}} {{lang|ny|Dziko la Zimbabwe}} {{lang|bwg|Dziko la Zimbabwe}} {{lang|kck|Hango yeZimbabwe}} {{lang|st|Zimbabwe Nù}} {{lang|nmq|Inyika yeZimbabwe}} {{lang|ndc|Nyika yeZimbabwe}} {{lang|ts|Tiko ra Zimbabwe}} {{lang|st|Naha ya Zimbabwe}} {{lang|st|Cisi ca Zimbabwe}} {{lang|ve|Shango ḽa Zimbabwe}} {{lang|xh|Ilizwe leZimbabwe}}',\n",
       " 'image_flag': 'Flag of Zimbabwe.svg',\n",
       " 'image_coat': 'Coat of Arms of Zimbabwe.svg',\n",
       " 'national_motto': '\"Unity, Freedom, Work\"',\n",
       " 'national_anthem': '\"[[National Anthem of Zimbabwe|Blessed be the land of Zimbabwe]]\" <div style= \"padding-top:0.5em;\"><center>[[File:Zimbabwe National Anthem.ogg]]</center></div>',\n",
       " 'image_map': 'Location Zimbabwe AU Africa.svg',\n",
       " 'map_caption': '{{map caption |location_color|=| dark blue |region|=| the [[African Union]] |region_color|=| light blue}}',\n",
       " 'capital': '[[Harare]]',\n",
       " 'coordinates': '{{Coord |17|50|S|31|3|E|type:city}}',\n",
       " 'largest_city': 'Harare',\n",
       " 'official_languages': '[[Languages of Zimbabwe|16 languages]]: {{hlist | [[Chewa language|Chewa]] | [[Chibarwe]] | [[English language|English]] | [[Kalanga language|Kalanga]] |\"[[Khoisan languages|Koisan]]\" (presumably [[Tsoa language|Tsoa]]) | [[Nambya language|Nambya]] | [[Ndau language|Ndau]] | [[Northern Ndebele language|Ndebele]] | [[Shangani language|Shangani]] |[[Shona language|Shona]] |\"[[Zimbabwean sign languages|sign language]]\" |[[Sotho language|Sotho]] | [[Tonga language (Zambia)|Tonga]] | [[Tswana language|Tswana]] | [[Venda language|Venda]] | [[Xhosa language|Xhosa]]}}',\n",
       " 'ethnic_groups': '{{unbulleted list\\n| 99.38% [[Black African]] (over 80% [[Shona people|Shona]]; [[Northern Ndebele people|Ndebele]] are largest minority)\\n| |nowrap|0.22% [[White people in Zimbabwe|White African]]|\\n| 0.14% [[Coloured]]\\n| 0.08% [[Asian people|Asian]]\\n| 0.01% Other\\n| 0.18% Not Stated}} {{nowrap|0.22% [[White people in Zimbabwe|White African]]}}',\n",
       " 'ethnic_groups_year': '2012 Census',\n",
       " 'demonym': 'Zimbabwean<br />Zimbo (colloquial)',\n",
       " 'government_type': '[[Unitary state|Unitary]] [[Dominant-party system|dominant-party]] [[Presidential system|presidential]] [[constitutional republic]]',\n",
       " 'leader_title1': '[[President of Zimbabwe|President]]',\n",
       " 'leader_name1': '[[Emmerson Mnangagwa]]',\n",
       " 'leader_title2': '[[Vice President of Zimbabwe|Vice-Presidents]]',\n",
       " 'leader_name2': '[[Constantino Chiwenga]]<br />[[Kembo Mohadi]]',\n",
       " 'legislature': '[[Parliament of Zimbabwe|Parliament]]',\n",
       " 'upper_house': '[[Senate of Zimbabwe|Senate]]',\n",
       " 'lower_house': '[[House of Assembly (Zimbabwe)|National Assembly]]',\n",
       " 'sovereignty_type': '[[Independence]] {{nobold |from the [[United Kingdom]]}}',\n",
       " 'established_event1': '[[Unilateral Declaration of Independence (Rhodesia)|Declared]]',\n",
       " 'established_date1': '11 November 1965',\n",
       " 'established_event2': '[[Rhodesia|Republic]]',\n",
       " 'established_date2': '2 March 1970',\n",
       " 'established_event3': '[[Zimbabwe Rhodesia]]',\n",
       " 'established_date3': '1 June 1979',\n",
       " 'established_event4': 'Republic of Zimbabwe',\n",
       " 'established_date4': '18 April 1980',\n",
       " 'established_event5': '[[Constitution of Zimbabwe|Current constitution]]',\n",
       " 'established_date5': '15 May 2013',\n",
       " 'area_km2': '390,757',\n",
       " 'area_rank': '60th',\n",
       " 'area_sq_mi': '150,871',\n",
       " 'percent_water': '1',\n",
       " 'population_estimate': '15,159,624',\n",
       " 'population_census': '12,973,808',\n",
       " 'population_estimate_year': '2019',\n",
       " 'population_estimate_rank': '74th',\n",
       " 'population_census_year': '2012',\n",
       " 'population_density_km2': '26',\n",
       " 'population_density_sq_mi': '57',\n",
       " 'population_density_rank': '170th',\n",
       " 'GDP_PPP': '$41.031 billion',\n",
       " 'GDP_PPP_year': '2019',\n",
       " 'GDP_PPP_per_capita': '$2,621',\n",
       " 'GDP_nominal': '$22.290 billion',\n",
       " 'GDP_nominal_year': '2019',\n",
       " 'GDP_nominal_per_capita': '$1,424',\n",
       " 'Gini': '50.1',\n",
       " 'Gini_year': '1995',\n",
       " 'HDI': '0.563',\n",
       " 'HDI_year': '2018',\n",
       " 'HDI_change': 'increase',\n",
       " 'HDI_rank': '150th',\n",
       " 'currency': '[[RTGS Dollar|Zimbabwean dollar]]',\n",
       " 'time_zone': '[[Central Africa Time|CAT]]',\n",
       " 'utc_offset': '+2',\n",
       " 'drives_on': '[[Right- and left-hand traffic|left]]',\n",
       " 'calling_code': '[[+263]]',\n",
       " 'cctld': '[[.zw]]'}"
      ]
     },
     "execution_count": 2,
     "metadata": {},
     "output_type": "execute_result"
    }
   ],
   "source": [
    "page = wptools.page('Zimbabwe')\n",
    "page.get_parse(False)\n",
    "page.data['infobox']"
   ]
  },
  {
   "cell_type": "markdown",
   "metadata": {},
   "source": [
    "Remarques :\n",
    "* La commande <code>wptools.page()</code> effectue une requête HTTP vers la page wikipédia dont on lui passe le nom.\n",
    "* Le code ci-dessus demande ensuite d'analyser le contenu de la page, puis de récupérer le contenu de la boîte d'information.\n",
    "* <code>page.data['infobox']</code> est un dictionnaire. Charge à nous maintenant de récupérer les informations qui nous intéressent.\n",
    "\n",
    "<b>N.B.1</b> <code>wptools</code> émet des messages d'information (sur fond rose dans le notebook), qu'on pourra empêcher plus tard.<br>\n",
    "<b>N.B.2</b> La documentation de <code>wptools</code> est consultable à l'adresse https://github.com/siznax/wptools\n"
   ]
  },
  {
   "cell_type": "markdown",
   "metadata": {},
   "source": [
    "<div style=\"background-color:#dde;padding:10px;border-radius:3px\">\n",
    "<b>Etape 2 - </b> A partir du code fourni, écrire une fonction <code>get_info(country)</code> qui prend en argument le nom de la page wikipédia du pays à analyser et renvoie la boîte d'information obtenue."
   ]
  },
  {
   "cell_type": "code",
   "execution_count": 3,
   "metadata": {
    "util.bundle": "correcteur"
   },
   "outputs": [],
   "source": [
    "def get_info(country):\n",
    "    page = wptools.page(country, silent=True)  #effectue une requête HTTP vers la page wikipédia dont on lui passe le nom (rajouter silent=True en argument permet d'éviter le msg sur fond rose)\n",
    "    page.get_parse(False)\n",
    "    if page.data['infobox']!=None:\n",
    "        return page.data['infobox']    # page.data['infobox']  est un dictionnaire\n",
    "    else :\n",
    "        print(\"Erreur, page ou infobox non existante\")\n",
    "        return None\n",
    "    "
   ]
  },
  {
   "cell_type": "markdown",
   "metadata": {},
   "source": [
    "<div style=\"background-color:#fdd;padding:10px;border-radius:3px\">\n",
    "<b>Remarque importante - </b> Si vous avez du mal à installer wp_tools, sachez qu'on l'introduit ici pour expliquer la démarche. Par contre vous n'en aurez rapidement plus besoin dans la suite puisqu'on vous fournira les données afin de vous éviter de faire de trop fréquentes requêtes sur wikipédia durant le déroulement du TD et du projet.\n",
    "\n",
    "Pour contourner wp_tools, développez la fonction <code>get_info</code> à partir du code permettant de lire un fichier zip donné en question 3.2. De cette manière vous accèderez aux données via le fichier zip fourni, plutôt qu'en envoyant systématiquement des requêtes à wikipédia. Toute la suite exploite le résultat de cette fonction, et ne posera donc pas de problème en l'absence de wptools."
   ]
  },
  {
   "cell_type": "code",
   "execution_count": 13,
   "metadata": {
    "util.bundle": "correcteur"
   },
   "outputs": [
    {
     "name": "stderr",
     "output_type": "stream",
     "text": [
      "en.wikipedia.org (parse) Zimbabwe\n"
     ]
    },
    {
     "name": "stdout",
     "output_type": "stream",
     "text": [
      "{'conventional_long_name': 'Republic of Zimbabwe', 'common_name': 'Zimbabwe', 'native_name': '{{collapsible list\\n| titlestyle             |=| background:transparent;text-align:center;line-height:normal;font-size:84%;\\n| title                  |=| 13 other official names\\n| |Infobox|subbox|=|yes|bodystyle|=|font-size:77%;font-weight:normal;\\n| rowclass1 |=| mergedrow | label1 |=| [[Shona language|Shona]]:\\n| data1 |=| |lang|sn|Nyika yeZimbabwe|\\n| rowclass2 |=| mergedrow | label2 |=| [[Northern Ndebele language|Ndebele]]:\\n| data2 |=| |lang|nd|Ilizwe leZimbabwe|\\n| rowclass3 |=| mergedrow | label3 |=| [[Chewa language|Chewa]]:\\n| data3 |=| |lang|ny|Dziko la Zimbabwe|\\n| rowclass4 |=| mergedrow | label4 |=| [[Sena language|Chibarwe]]:\\n| data4 |=| |lang|bwg|Dziko la Zimbabwe|\\n| rowclass5 |=| mergedrow | label5 |=| [[Kalanga language|Kalanga]]:\\n| data5 |=| |lang|kck|Hango yeZimbabwe|\\n| rowclass6 |=| mergedrow | label6 |=| [[Tshwa language|Khoisan]]:\\n| data6 |=| |lang|st|Zimbabwe Nù|\\n| rowclass7 |=| mergedrow | label7 |=| [[Nambya language|Nambya]]:\\n| data7 |=| |lang|nmq|Inyika yeZimbabwe|\\n| rowclass8 |=| mergedrow | label8 |=| [[Ndau dialect|Ndau]]:\\n| data8 |=| |lang|ndc|Nyika yeZimbabwe|\\n| rowclass9 |=| mergedrow | label9 |=| [[Tsonga language|Shangani]]:\\n| data9 |=| |lang|ts|Tiko ra Zimbabwe|\\n| rowclass10 |=| mergedrow| label10 |=| [[Sesotho language|Sesotho]]:\\n| data10 |=| |lang|st|Naha ya Zimbabwe|\\n| rowclass11 |=| mergedrow| label11 |=| [[Tonga language (Zambia and Zimbabwe)|Tonga]]:\\n| data11 |=| |lang|st|Cisi ca Zimbabwe|\\n| rowclass12 |=| mergedrow| label12 |=| [[Venda language|Venda]]:\\n| data12 |=| |lang|ve|Shango ḽa Zimbabwe|\\n| rowclass13 |=| mergedrow| label13 |=| [[Xhosa language|Xhosa]]:\\n| data13 |=| |lang|xh|Ilizwe leZimbabwe|\\n|}} {{Infobox|subbox|=|yes|bodystyle|=|font-size:77%;font-weight:normal;\\n| rowclass1 |=| mergedrow | label1 |=| [[Shona language|Shona]]:\\n| data1 |=| |lang|sn|Nyika yeZimbabwe|\\n| rowclass2 |=| mergedrow | label2 |=| [[Northern Ndebele language|Ndebele]]:\\n| data2 |=| |lang|nd|Ilizwe leZimbabwe|\\n| rowclass3 |=| mergedrow | label3 |=| [[Chewa language|Chewa]]:\\n| data3 |=| |lang|ny|Dziko la Zimbabwe|\\n| rowclass4 |=| mergedrow | label4 |=| [[Sena language|Chibarwe]]:\\n| data4 |=| |lang|bwg|Dziko la Zimbabwe|\\n| rowclass5 |=| mergedrow | label5 |=| [[Kalanga language|Kalanga]]:\\n| data5 |=| |lang|kck|Hango yeZimbabwe|\\n| rowclass6 |=| mergedrow | label6 |=| [[Tshwa language|Khoisan]]:\\n| data6 |=| |lang|st|Zimbabwe Nù|\\n| rowclass7 |=| mergedrow | label7 |=| [[Nambya language|Nambya]]:\\n| data7 |=| |lang|nmq|Inyika yeZimbabwe|\\n| rowclass8 |=| mergedrow | label8 |=| [[Ndau dialect|Ndau]]:\\n| data8 |=| |lang|ndc|Nyika yeZimbabwe|\\n| rowclass9 |=| mergedrow | label9 |=| [[Tsonga language|Shangani]]:\\n| data9 |=| |lang|ts|Tiko ra Zimbabwe|\\n| rowclass10 |=| mergedrow| label10 |=| [[Sesotho language|Sesotho]]:\\n| data10 |=| |lang|st|Naha ya Zimbabwe|\\n| rowclass11 |=| mergedrow| label11 |=| [[Tonga language (Zambia and Zimbabwe)|Tonga]]:\\n| data11 |=| |lang|st|Cisi ca Zimbabwe|\\n| rowclass12 |=| mergedrow| label12 |=| [[Venda language|Venda]]:\\n| data12 |=| |lang|ve|Shango ḽa Zimbabwe|\\n| rowclass13 |=| mergedrow| label13 |=| [[Xhosa language|Xhosa]]:\\n| data13 |=| |lang|xh|Ilizwe leZimbabwe|}} {{lang|sn|Nyika yeZimbabwe}} {{lang|nd|Ilizwe leZimbabwe}} {{lang|ny|Dziko la Zimbabwe}} {{lang|bwg|Dziko la Zimbabwe}} {{lang|kck|Hango yeZimbabwe}} {{lang|st|Zimbabwe Nù}} {{lang|nmq|Inyika yeZimbabwe}} {{lang|ndc|Nyika yeZimbabwe}} {{lang|ts|Tiko ra Zimbabwe}} {{lang|st|Naha ya Zimbabwe}} {{lang|st|Cisi ca Zimbabwe}} {{lang|ve|Shango ḽa Zimbabwe}} {{lang|xh|Ilizwe leZimbabwe}}', 'image_flag': 'Flag of Zimbabwe.svg', 'image_coat': 'Coat of Arms of Zimbabwe.svg', 'national_motto': '\"Unity, Freedom, Work\"', 'national_anthem': '\"[[National Anthem of Zimbabwe|Blessed be the land of Zimbabwe]]\" <div style= \"padding-top:0.5em;\"><center>[[File:Zimbabwe National Anthem.ogg]]</center></div>', 'image_map': 'Location Zimbabwe AU Africa.svg', 'map_caption': '{{map caption |location_color|=| dark blue |region|=| the [[African Union]] |region_color|=| light blue}}', 'capital': '[[Harare]]', 'coordinates': '{{Coord |17|50|S|31|3|E|type:city}}', 'largest_city': 'Harare', 'official_languages': '[[Languages of Zimbabwe|16 languages]]: {{hlist | [[Chewa language|Chewa]] | [[Chibarwe]] | [[English language|English]] | [[Kalanga language|Kalanga]] |\"[[Khoisan languages|Koisan]]\" (presumably [[Tsoa language|Tsoa]]) | [[Nambya language|Nambya]] | [[Ndau language|Ndau]] | [[Northern Ndebele language|Ndebele]] | [[Shangani language|Shangani]] |[[Shona language|Shona]] |\"[[Zimbabwean sign languages|sign language]]\" |[[Sotho language|Sotho]] | [[Tonga language (Zambia)|Tonga]] | [[Tswana language|Tswana]] | [[Venda language|Venda]] | [[Xhosa language|Xhosa]]}}', 'ethnic_groups': '{{unbulleted list\\n| 99.38% [[Black African]] (over 80% [[Shona people|Shona]]; [[Northern Ndebele people|Ndebele]] are largest minority)\\n| |nowrap|0.22% [[White people in Zimbabwe|White African]]|\\n| 0.14% [[Coloured]]\\n| 0.08% [[Asian people|Asian]]\\n| 0.01% Other\\n| 0.18% Not Stated}} {{nowrap|0.22% [[White people in Zimbabwe|White African]]}}', 'ethnic_groups_year': '2012 Census', 'demonym': 'Zimbabwean<br />Zimbo (colloquial)', 'government_type': '[[Unitary state|Unitary]] [[Dominant-party system|dominant-party]] [[Presidential system|presidential]] [[constitutional republic]]', 'leader_title1': '[[President of Zimbabwe|President]]', 'leader_name1': '[[Emmerson Mnangagwa]]', 'leader_title2': '[[Vice President of Zimbabwe|Vice-Presidents]]', 'leader_name2': '[[Constantino Chiwenga]]<br />[[Kembo Mohadi]]', 'legislature': '[[Parliament of Zimbabwe|Parliament]]', 'upper_house': '[[Senate of Zimbabwe|Senate]]', 'lower_house': '[[House of Assembly (Zimbabwe)|National Assembly]]', 'sovereignty_type': '[[Independence]] {{nobold |from the [[United Kingdom]]}}', 'established_event1': '[[Unilateral Declaration of Independence (Rhodesia)|Declared]]', 'established_date1': '11 November 1965', 'established_event2': '[[Rhodesia|Republic]]', 'established_date2': '2 March 1970', 'established_event3': '[[Zimbabwe Rhodesia]]', 'established_date3': '1 June 1979', 'established_event4': 'Republic of Zimbabwe', 'established_date4': '18 April 1980', 'established_event5': '[[Constitution of Zimbabwe|Current constitution]]', 'established_date5': '15 May 2013', 'area_km2': '390,757', 'area_rank': '60th', 'area_sq_mi': '150,871', 'percent_water': '1', 'population_estimate': '15,159,624', 'population_census': '12,973,808', 'population_estimate_year': '2019', 'population_estimate_rank': '74th', 'population_census_year': '2012', 'population_density_km2': '26', 'population_density_sq_mi': '57', 'population_density_rank': '170th', 'GDP_PPP': '$41.031 billion', 'GDP_PPP_year': '2019', 'GDP_PPP_per_capita': '$2,621', 'GDP_nominal': '$22.290 billion', 'GDP_nominal_year': '2019', 'GDP_nominal_per_capita': '$1,424', 'Gini': '50.1', 'Gini_year': '1995', 'HDI': '0.563', 'HDI_year': '2018', 'HDI_change': 'increase', 'HDI_rank': '150th', 'currency': '[[RTGS Dollar|Zimbabwean dollar]]', 'time_zone': '[[Central Africa Time|CAT]]', 'utc_offset': '+2', 'drives_on': '[[Right- and left-hand traffic|left]]', 'calling_code': '[[+263]]', 'cctld': '[[.zw]]'}\n"
     ]
    }
   ],
   "source": [
    "print(get_info('Zimbabwe'))\n"
   ]
  },
  {
   "cell_type": "markdown",
   "metadata": {},
   "source": [
    "<div style=\"background-color:#dde;padding:10px;border-radius:3px\">\n",
    "<b>Etape 3 - </b>  Ecrire une fonction <code>print_capital(info)</code> qui prend en argument la boîte d'information renvoyée par la fonction précédente, et affiche le nom du pays, la capitale et ses coordonnées géographiques *(peu importe le format pour l'instant)*."
   ]
  },
  {
   "cell_type": "code",
   "execution_count": 4,
   "metadata": {
    "util.bundle": "correcteur"
   },
   "outputs": [],
   "source": [
    "def print_capital(info):\n",
    "    capitale=info['capital']  #dans le dictionnaire info, renvoie l'élément de clé 'capital'\n",
    "    coordonnees_capitale=info['coordinates']  #dans le dictionnaire info, renvoie l'élément de clé 'coordinates'\n",
    "    return capitale,coordonnees_capitale\n",
    "    "
   ]
  },
  {
   "cell_type": "markdown",
   "metadata": {},
   "source": [
    "<div style=\"background-color:#dde;padding:10px;border-radius:3px\">\n",
    "<b>Etape 4 - </b>  Tester ces fonctions avec quelques pays, par exemple le Zimbabwe, le Japon,  l'Allemagne, le Canada ou l'Australie."
   ]
  },
  {
   "cell_type": "code",
   "execution_count": 15,
   "metadata": {
    "util.bundle": "correcteur"
   },
   "outputs": [
    {
     "name": "stderr",
     "output_type": "stream",
     "text": [
      "en.wikipedia.org (parse) Australia\n"
     ]
    },
    {
     "name": "stdout",
     "output_type": "stream",
     "text": [
      "('[[Canberra]]', '{{Coord|35|18|29|S|149|07|28|E|type:city_region:AU}}')\n"
     ]
    }
   ],
   "source": [
    "print(print_capital(get_info('Australia')))"
   ]
  },
  {
   "cell_type": "markdown",
   "metadata": {},
   "source": [
    "<b>1.3 Mise en forme des données</b>"
   ]
  },
  {
   "cell_type": "markdown",
   "metadata": {},
   "source": [
    "Il ne vous aura pas échappé que le format des informations récupérées n'est pas optimal (crochets autour du nom de la capitale, présence parfois d'informations supplémentaires non désirées, coordonnées peu exploitables telles quelles). Pour certains pays, même la récupération du nom du pays n'est pas triviale."
   ]
  },
  {
   "cell_type": "markdown",
   "metadata": {},
   "source": [
    "Les <a href=\"https://docs.python.org/3/library/re.html\">expressions régulières</a> sont un outil puissant permettant de récupérer des informations dans une chaîne de caractères au format connu mais complexe. Il s'agit d'un mécanisme présent dans de nombreux langages de programmation, permettant d'analyser des chaînes de caractères et d'en extraire de l'information. \n",
    "\n",
    "Le code ci-dessous montre comment récupérer le nom de la capitale, compris entre les doubles crochets <span style=\"color:#800\"><i>(à condition bien sûr que vous ayez bien réalisé la fonction <tt>get_info()</tt> comme demandé ci-dessus)</i></span> :<code>"
   ]
  },
  {
   "cell_type": "code",
   "execution_count": 5,
   "metadata": {},
   "outputs": [
    {
     "name": "stdout",
     "output_type": "stream",
     "text": [
      "Chaîne brute : [[Harare]]\n",
      "Capitale : Harare\n"
     ]
    }
   ],
   "source": [
    "#\n",
    "# import du module permettant d'exploiter des expressions régulières\n",
    "#\n",
    "import re\n",
    "\n",
    "zw = get_info('Zimbabwe')\n",
    "capital = zw['capital']\n",
    "print('Chaîne brute : {}'.format(capital))\n",
    "\n",
    "# Analyse de la chaîne brute en la comparant à [[*]], et en mémorisant le contenu des crochets\n",
    "m = re.match(\"\\[\\[(\\w+)\\]\\]\", capital)\n",
    "\n",
    "capital = m.group(1)\n",
    "print('Capitale : {}'.format(capital))"
   ]
  },
  {
   "cell_type": "markdown",
   "metadata": {},
   "source": [
    "<div style=\"background-color:#dde;padding:10px;border-radius:3px\">\n",
    "<b>Etape 5 - </b>  Ecrire une fonction <code>get_name(info)</code> qui prend en argument une infobox de pays et renvoie le nom officiel du pays. Cette information se trouve a priori dans le champ nommé <code>conventional_long_name</code>."
   ]
  },
  {
   "cell_type": "code",
   "execution_count": 6,
   "metadata": {
    "util.bundle": "correcteur",
    "util.bundle.source": [
     "#\n",
     "# Récupération du nom complet d'un pays depuis l'infobox wikipédia\n",
     "#"
    ]
   },
   "outputs": [],
   "source": [
    "def get_name(wp_info):  \n",
    "    if 'conventional_long_name' in wp_info:  #vérifie que 'conventional_long_name' est bien dans l'infobox du pays\n",
    "        name=wp_info['conventional_long_name']\n",
    "        #si il y a des espaces, des virgules, des tirets devant {{, on conserve à partir de {{\n",
    "        m=re.match(\"([\\w, -]+?)\\s*{{\",name)\n",
    "        if m:\n",
    "            name=m.group(1)\n",
    "        #si le nom est dans {{ }} avec un | on garde à partir du |\n",
    "        m=re.match(\"{{.*\\|([\\w, -]+)}}\",name)\n",
    "        if m:\n",
    "            name=m.group(1)\n",
    "        return name\n",
    "    \n",
    "    #pour singapour\n",
    "    if 'common_name' in wp_info and wp_info['common_name']=='Singapore':\n",
    "        return 'Republic of Singapore'\n",
    "    \n",
    "    #Aveu d'échec\n",
    "    print('impossible de récuperer le nom du pays')\n",
    "    return None\n",
    "        \n"
   ]
  },
  {
   "cell_type": "markdown",
   "metadata": {},
   "source": [
    "<div style=\"background-color:#dde;padding:10px;border-radius:3px\">\n",
    "<b>Etape 6 - </b>  Tester avec les pays suggérés plus haut.\n",
    "</div>"
   ]
  },
  {
   "cell_type": "code",
   "execution_count": 18,
   "metadata": {
    "util.bundle": "correcteur",
    "util.bundle.source": [
     "# test de la fonction get_name(info)"
    ]
   },
   "outputs": [
    {
     "name": "stderr",
     "output_type": "stream",
     "text": [
      "en.wikipedia.org (parse) Singapore\n"
     ]
    },
    {
     "name": "stdout",
     "output_type": "stream",
     "text": [
      "Republic of Singapore\n"
     ]
    }
   ],
   "source": [
    "print(get_name(get_info('Singapore')))"
   ]
  },
  {
   "cell_type": "markdown",
   "metadata": {},
   "source": [
    "<div style=\"background-color:#ded;padding:10px;border-radius:3px\">\n",
    "<b>N.B.</b> \n",
    "Pour certains pays <i>(Singapour, Vanuatu...)</i> le champ <code>conventional_long_name</code> n'est pas présent, pour d'autres l'information est plus complexe et donc plus difficile à extraire. Il est donc prévu que vous complétiez cette fonction (et les suivantes) au fur et à mesure des besoins, éventuellement mais pas nécessairement au cours de ce TD, sinon lors des TDs suivants ou de votre projet, pour arriver à traiter tous les pays qui vous concernent. N'hésitez pas pour cela à traiter les cas particuliers comme tels si nécessaire.\n",
    "</div>\n",
    "\n",
    "Allez donc au plus simple pour l'instant, mais prévoyez de compléter ce code par la suite.\n"
   ]
  },
  {
   "cell_type": "markdown",
   "metadata": {},
   "source": [
    "<div style=\"background-color:#dde;padding:10px;border-radius:3px\">\n",
    "<b>Etape 7 - </b>  Dans la même démarche, écrire une fonction <code>get_capital(info)</code> qui prend en argument une infobox de pays et renvoie une chaîne de caractères avec le nom de la capitale, et tester avec les pays déjà évoqués plus haut."
   ]
  },
  {
   "cell_type": "code",
   "execution_count": 21,
   "metadata": {
    "util.bundle": "correcteur",
    "util.bundle.source": [
     "#\n",
     "# Récupération de la capitale d'un pays depuis l'infobox wikipédia\n",
     "#"
    ]
   },
   "outputs": [],
   "source": [
    "def get_capital(wp_info):\n",
    "    \n",
    "    if 'capital' in wp_info:  #vérifie que 'capital' est bien dans l'infobox du pays\n",
    "        capital=wp_info['capital'].replace('\\n',' ') #on remplace un retour à la ligne par un espace si besoin\n",
    "        m=re.match(\".*?\\[\\[([\\w\\s',.()|-]+)\\]\\]\",capital)\n",
    "        capital=m.group(1)\n",
    "        \n",
    "        #si on tombe sur | on prend le premier terme\n",
    "        if'|'in capital:\n",
    "            capital=capital.split('|').pop()\n",
    "        #pour singapour\n",
    "        if (capital == 'city-state'):\n",
    "            capital=wp_info['common_name']\n",
    "        return capital\n",
    "        #pour la Palestine\n",
    "    if 'common_name' in wp_info and wp_info['common_name']=='Palestine':\n",
    "            return 'Ramallah'\n",
    "    \n",
    "    #aveu d'echec\n",
    "    print('impossible de récuperer la capitale')\n",
    "    return None\n",
    "    "
   ]
  },
  {
   "cell_type": "code",
   "execution_count": 20,
   "metadata": {
    "util.bundle": "correcteur",
    "util.bundle.source": [
     "# test de la fonction get_capital(info)"
    ]
   },
   "outputs": [
    {
     "name": "stderr",
     "output_type": "stream",
     "text": [
      "en.wikipedia.org (parse) China\n"
     ]
    },
    {
     "name": "stdout",
     "output_type": "stream",
     "text": [
      "Beijing\n"
     ]
    }
   ],
   "source": [
    "\n",
    "#print(get_capital(get_info('Vanuatu')))\n",
    "print(get_capital(get_info('China')))"
   ]
  },
  {
   "cell_type": "markdown",
   "metadata": {},
   "source": [
    "<div style=\"background-color:#dde;padding:10px;border-radius:3px\">\n",
    "<b>Etape 8 - </b>  Procéder de même avec les coordonnées géographiques. Il sera nécessaire de convertir les expressions en degrés, minutes, secondes, avec indication de la direction N/S et E/O, pour obtenir une information en degrés sous la forme d'un nombre décimal, positif ou négatif.\n",
    "\n",
    "La fonction <code>get_coords(info)</code> devra renvoyer un dictionnaire avec deux éléments respectivement nommés <code>lat</code> et <code>lon</code>."
   ]
  },
  {
   "cell_type": "code",
   "execution_count": 8,
   "metadata": {
    "util.bundle": "correcteur",
    "util.bundle.source": [
     "#\n",
     "# Récupération des coordonnées de la capitale depuis l'infobox d'un pays\n",
     "#"
    ]
   },
   "outputs": [],
   "source": [
    "def get_coords(wp_info):\n",
    "        if 'coordinates' in wp_info: #vérifie qu'il existe des coordonnées dans l'infobox du pays\n",
    "            m=re.match('(?i).*{{coord\\s*\\|([^}]*)}}',wp_info['coordinates'])\n",
    "            \n",
    "            if m == None: #si l'expression ne correspond pas (aveu d'échec)\n",
    "                    print(\"impossible d'exploiter les coordonnées\")\n",
    "            str_coords=m.group(1)\n",
    "            \n",
    "            if str_coords[0:1] in '0123456789': #conversion en coordonnées numérique (latitude et longitude)\n",
    "                return cv_coords(str_coords)\n",
    "        #si l'info box ne contient pas l'information\n",
    "        if 'common_name' in wp_info and wp_info['common_name'] == 'the Philippines':\n",
    "            return cv_coords('14|35|45|N|120|58|38|E')\n",
    "        \n",
    "        #essaie avec les infos de la page de la capitale\n",
    "        capital=get_capital(wp_info)\n",
    "        if capital:\n",
    "            print('coordonnées de la capitale')\n",
    "            return get_coords(get_info(capital))\n",
    "        \n",
    "        #Aveu d'échec\n",
    "        print('impossible de récuperer les coordonnées')\n",
    "        return None\n",
    "        "
   ]
  },
  {
   "cell_type": "code",
   "execution_count": 9,
   "metadata": {},
   "outputs": [],
   "source": [
    "def cv_coords(str_coords): #pour passer d'une chaine décrivant la position géographique aux coordonnées latitude et longitude\n",
    "    c=str_coords.split('|')\n",
    "    \n",
    "    #pour la latitude\n",
    "    lat=float(c.pop(0))\n",
    "    if(c[0]=='N'):\n",
    "        c.pop(0)\n",
    "    elif (c[0]=='S'):\n",
    "        lat=-lat\n",
    "        c.pop(0)\n",
    "    elif (len(c)>1 and c[1]=='N'):\n",
    "        lat+=float(c.pop(0))/60\n",
    "        c.pop(0)\n",
    "    elif (len(c)>1 and c[1]=='S'):\n",
    "        lat+=float(c.pop(0))/60\n",
    "        lat=-lat\n",
    "        c.pop(0)\n",
    "    elif (len(c)>2 and c[2]=='N'):\n",
    "        lat+=float(c.pop(0))/60\n",
    "        lat+=float(c.pop(0))/3600\n",
    "        c.pop(0)\n",
    "    elif (len(c)>2 and c[2]=='S'):\n",
    "        lat+=float(c.pop(0))/60\n",
    "        lat+=float(c.pop(0))/3600\n",
    "        lat=-lat\n",
    "        c.pop(0)\n",
    "        \n",
    "    #pour longitude\n",
    "    \n",
    "    lon=float(c.pop(0))\n",
    "    if(c[0]=='E'):\n",
    "        c.pop(0)\n",
    "    elif (c[0]=='W'):\n",
    "        lon=-lon\n",
    "        c.pop(0)\n",
    "    elif (len(c)>1 and c[1]=='E'):\n",
    "        lon+=float(c.pop(0))/60\n",
    "        c.pop(0)\n",
    "    elif (len(c)>1 and c[1]=='W'):\n",
    "        lon+=float(c.pop(0))/60\n",
    "        lon=-lon\n",
    "        c.pop(0)\n",
    "    elif (len(c)>2 and c[2]=='E'):\n",
    "        lon+=float(c.pop(0))/60\n",
    "        lon+=float(c.pop(0))/3600\n",
    "        c.pop(0)\n",
    "    elif (len(c)>2 and c[2]=='W'):\n",
    "        lon+=float(c.pop(0))/60\n",
    "        lon+=float(c.pop(0))/3600\n",
    "        lon=-lon\n",
    "        c.pop(0)\n",
    "    \n",
    "    return {'lat':lat, 'lon':lon} #on renvoie le dictionnaire contenant valeurs\n",
    "    "
   ]
  },
  {
   "cell_type": "code",
   "execution_count": 23,
   "metadata": {
    "util.bundle": "correcteur",
    "util.bundle.source": [
     "# test de la fonction get_coords(info)"
    ]
   },
   "outputs": [
    {
     "name": "stderr",
     "output_type": "stream",
     "text": [
      "en.wikipedia.org (parse) China\n"
     ]
    },
    {
     "data": {
      "text/plain": [
       "{'lat': 39.916666666666664, 'lon': 116.38333333333334}"
      ]
     },
     "execution_count": 23,
     "metadata": {},
     "output_type": "execute_result"
    }
   ],
   "source": [
    "get_coords(get_info('China'))"
   ]
  },
  {
   "cell_type": "markdown",
   "metadata": {},
   "source": [
    "<h3 style=\"background-color:#eef; padding:0.5em\">2. Mise en place d'une base de données</h3>\n",
    "\n",
    "<b>2.1. Création de la base :</b>\n",
    "\n",
    "En Python, la création d'une base de données SQLite est particulièrement simple à effectuer :"
   ]
  },
  {
   "cell_type": "code",
   "execution_count": 10,
   "metadata": {},
   "outputs": [],
   "source": [
    "#\n",
    "# import du module d'accès à la base de données\n",
    "#\n",
    "import sqlite3\n",
    "\n",
    "#\n",
    "# Ouverture d'une connexion avec la base de données\n",
    "#\n",
    "conn = sqlite3.connect('pays.sqlite')"
   ]
  },
  {
   "cell_type": "markdown",
   "metadata": {},
   "source": [
    "Ce code permet d'ouvrir une connexion avec la base de données des pays. Si elle n'existe pas, elle est créée !\n",
    "\n",
    "<div style=\"background-color:#dde;padding:10px;border-radius:3px\">\n",
    "<b>Etape 9 - </b> Vérifier l'apparition d'un fichier nommé <code>pays.sqlite</code> dans le répertoire dans lequel se trouve le présent notebook.\n",
    "</div>\n",
    "\n",
    "<img src=\"pays_sqlite.png\">"
   ]
  },
  {
   "cell_type": "markdown",
   "metadata": {},
   "source": [
    "Toutes les opérations sur une base de données de ce type peuvent être effectuées en Python via les fonctions présentes au sein du module <code>sqlite3</code>.\n",
    "\n",
    "Cependant, pour manipuler de manière interactive le contenu de la base <i>(créer, supprimer ou modifier des tables et des enregistrements, effectuer des requêtes SQL...)</i> il existe des outils adaptés.\n",
    "\n",
    "L'outil retenu dans le cadre de ce cours s'appelle \"DB Browser for SQLite\". C'est un logiciel libre qui existe pour toutes les plateformes (Windows, MacOs, nombreuses distribution Linux et Unix...).\n",
    "\n",
    "<div style=\"background-color:#dde;padding:10px;border-radius:3px;margin-top:1.33em\">\n",
    "<b>Etape 10 - </b>Télécharger et installer <a href=\"http://sqlitebrowser.org/\">DB Browser for SQLite</a> en suivant les instructions d'installation en fonction de votre système d'exploitation.\n",
    "</div>\n",
    "\n",
    "Démarrer DB Browser for SQLite en ouvrant la base de données (vide pour l'instant) qui vient d'être créée.\n",
    "\n",
    "<img src=\"empty_db.png\" width=\"600px\" style=\"box-shadow:3px 3px 3px #888\">\n",
    "<div style=\"text-align:center; font-size:80%; margin-top:0.5em\">Interface de DB Browser for SQLite</div>"
   ]
  },
  {
   "cell_type": "markdown",
   "metadata": {},
   "source": [
    "<b>2.2. Création d'une table</b>\n",
    "\n",
    "Avant de pouvoir enregistrer dans la base de données les informations que nous sommes maintenant capables de récupérer depuis wikipédia, il est nécessaire de décrire leur format en créant une table.\n",
    "\n",
    "<div style=\"background-color:#dde;padding:10px;border-radius:3px\">\n",
    "<b>Etape 11 - </b> Via l'interface de DB Browser for SQLite, créer une table nommée \"countries\" destinée à recevoir les informations extraites de wikipédia, avec les champs suivants (décrits ici en langage SQL) <b>en n'oubliant pas d'enregistrer les modifications</b> :"
   ]
  },
  {
   "cell_type": "raw",
   "metadata": {
    "collapsed": true
   },
   "source": [
    "CREATE TABLE `countries` (              -- la table est nommé \"countries\"\n",
    "\t`wp`\tTEXT NOT NULL UNIQUE,       -- nom de la page wikipédia, non nul, unique\n",
    "\t`name`\tTEXT,                       -- nom complet du pays\n",
    "\t`capital`\tTEXT,                   -- nom de la capitale\n",
    "\t`latitude`\tREAL,                   -- latitude, champ numérique à valeur décimale\n",
    "\t`longitude`\tREAL,                   -- longitude, champ numérique à valeur décimale\n",
    "\tPRIMARY KEY(`wp`)                   -- wp est la clé primaire\n",
    ");"
   ]
  },
  {
   "cell_type": "markdown",
   "metadata": {},
   "source": [
    "<img src=\"table_countries.png\" style=\"width:500px;border:1px solid #ccc; box-shadow:3px 3px 3px #888\">\n",
    "<div style=\"text-align:center; font-size:80%; margin-top:0.5em\">Visualisation de la table countries dans DB Browser for SQLite</div>"
   ]
  },
  {
   "cell_type": "markdown",
   "metadata": {},
   "source": [
    "<b>2.3. Ecriture dans la base</b>\n",
    "\n",
    "Via Python, l'écriture d'un enregistrement dans la base s'effectue en soumettant une requête SQL INSERT. En supposant que la variable zw contient l'infobox récupérée sur wikipédia au sujet du Zimbabwe, voici comment procéder :"
   ]
  },
  {
   "cell_type": "raw",
   "metadata": {},
   "source": [
    "# ouverture d'une connexion avec la base de données\n",
    "conn = sqlite3.connect('pays.sqlite')\n",
    "\n",
    "# préparation de la commande SQL\n",
    "c = conn.cursor()\n",
    "sql = 'INSERT INTO countries VALUES (?, ?, ?, ?, ?)'\n",
    "\n",
    "# les infos à enregistrer\n",
    "name = get_name(zw)\n",
    "capital = get_capital(zw)\n",
    "coords = get_coords(zw)\n",
    "\n",
    "# soumission de la commande (noter que le second argument est un tuple)\n",
    "c.execute(sql,('Zimbabwe',name, capital, coords['lat'],coords['lon']))\n",
    "conn.commit()"
   ]
  },
  {
   "cell_type": "markdown",
   "metadata": {},
   "source": [
    "<div style=\"background-color:#dde;padding:10px;border-radius:3px\">\n",
    "<b>Etape 12 - </b> En vous basant sur le code ci-dessus, créer une fonction <code>save_country(conn,country,info)</code> qui enregistre les information dans la base de données, et dont les arguments sont la connexion ouverte avec la base de données, le nom du pays et l'infobox récupérée sur wikipédia."
   ]
  },
  {
   "cell_type": "code",
   "execution_count": 13,
   "metadata": {
    "util.bundle": "correcteur"
   },
   "outputs": [],
   "source": [
    "def save_country(conn,country,info):\n",
    "    c=conn.cursor()\n",
    "    sql='INSERT OR REPLACE INTO countries VALUES (?,?,?,?,?)'  #la requête qu'on veut exécuter, avec les éléments de chaque colonne pas encore renseignés\n",
    "    #info enregistrées:\n",
    "    name=get_name(info)\n",
    "    capital=get_capital(info)\n",
    "    coords=get_coords(info)\n",
    "    \n",
    "    c.execute(sql,(country,name, capital, coords['lat'],coords['lon']))  #renseigne les éléments non-renseignés dans la requête SQL \n",
    "    conn.commit() #applique la requête\n",
    "        \n",
    "    "
   ]
  },
  {
   "cell_type": "markdown",
   "metadata": {},
   "source": [
    "Tester avec au moins un pays, et vérifier à l'aide de DB Browser que l'enregistrement a bien été effectué :\n",
    "\n",
    "<img src=\"enregistrement_zw.png\" style=\"width:500px; border:1px solid #ccc;box-shadow:3px 3px 3px #888\"/>\n",
    "<div style=\"text-align:center; font-size:80%; margin-top:0.5em\">Visualisation d'un enregistrement dans DB Browser for SQLite</div>"
   ]
  },
  {
   "cell_type": "code",
   "execution_count": 13,
   "metadata": {
    "scrolled": true,
    "util.bundle": "correcteur",
    "util.bundle.source": [
     "# votre code ici"
    ]
   },
   "outputs": [],
   "source": [
    "conn=sqlite3.connect('paystest.sqlite')\n",
    "#save_country(conn,'Zimbabwe',get_info('Zimbabwe'))"
   ]
  },
  {
   "cell_type": "markdown",
   "metadata": {},
   "source": [
    "<div style=\"background-color:#dde;padding:10px;border-radius:3px\">\n",
    "<b>Etape 13 - </b> Créer une fonction <code>read_country(conn,country)</code> dont les arguments sont la connexion ouverte avec la base de données et le nom du pays, qui tente de lire les informations du pays dans la base de données et les renvoie, ou renvoie None si le pays n'existe pas dans la base."
   ]
  },
  {
   "cell_type": "code",
   "execution_count": 23,
   "metadata": {
    "util.bundle": "correcteur"
   },
   "outputs": [],
   "source": [
    "def read_country(conn,country):\n",
    "    c=conn.cursor()\n",
    "      \n",
    "    c.execute(\"SELECT name FROM sqlite_master WHERE type='table';\")  #requête permettant d'avoir la liste des tables\n",
    "    a=c.fetchall()  #stocke les résultats de la requête sous une forme alambiquée\n",
    "    liste_tables=[a[i][0] for i in range(len(a))]  #stocke la liste des tables de la database (strings)\n",
    "    \n",
    "    if 'countries' in liste_tables : #vérifie que la table countries existe         \n",
    "        c.execute(\"PRAGMA table_info(countries)\")#requête permettant d'avoir la liste des colonnes de la table countries\n",
    "        a=c.fetchall()   #stocke les résultats de la requête sous une forme alambiquée\n",
    "        liste_colonnes=[a[i][1] for i in range(len(a))]  #stocke la liste des colonnes de la table countries (strings)\n",
    "        \n",
    "        if 'wp' in liste_colonnes : #vérifie que la colonne wp existe dans la table countries\n",
    "            c.execute(\"SELECT COUNT() FROM countries WHERE wp=\"+\"'\"+country+\"'\")  #requête permettant d'avoir le nombre de résultats\n",
    "            a=c.fetchall()  #stocke dans a (sous la forme [(nombre,)]) le résultat de la requete\n",
    "\n",
    "            if a[0][0]!=0:   #si le nombre de résultats est différent de 0                  \n",
    "                c.execute(\"SELECT * FROM countries WHERE wp=\"+\"'\"+country+\"'\")#la requête SELECT WHERE\n",
    "                conn.commit()  #actualise la database\n",
    "                return c.fetchall()  \n",
    "\n",
    "            elif a[0][0]==0  : #si le nombre de résultats est égal à 0\n",
    "                print('Pays non présent dans la database')\n",
    "                return None\n",
    "        elif not 'wp' in liste_colonnes:\n",
    "            print('Colonne wp absente de la table countries')\n",
    "            return None\n",
    "    elif not 'countries' in liste_tables:\n",
    "        print('Table countries absente de la database')\n",
    "        return None\n",
    "    \n",
    "    "
   ]
  },
  {
   "cell_type": "code",
   "execution_count": 25,
   "metadata": {},
   "outputs": [
    {
     "name": "stdout",
     "output_type": "stream",
     "text": [
      "[('Zimbabwe', 'Republic of Zimbabwe', 'Harare', -17.833333333333332, 31.05)]\n"
     ]
    }
   ],
   "source": [
    "print(read_country(sqlite3.connect('pays.sqlite'),'Zimbabwe'))"
   ]
  },
  {
   "cell_type": "markdown",
   "metadata": {},
   "source": [
    "<h3 style=\"background-color:#efe; padding:0.5em\">3. Pour aller plus loin...</h3>\n",
    "\n",
    "... et progresser vers la réalisation de votre projet, il s'agit maintenant d'extraire les informations de la page wikipédia de chacun des pays du continent qui vous concerne, et de les insérer dans la base de données."
   ]
  },
  {
   "cell_type": "markdown",
   "metadata": {},
   "source": [
    "<b>3.1. Vous avez dit scraping ?</b>\n",
    "\n",
    "Le scraping systématique de nombreuses pages peut potentiellement prendre du temps, et ce d'autant plus que le serveur de wikipédia semble devenir réticent à répondre lorsqu'on lui transmet des requêtes en rafale à une fréquence peu crédible pour un opérateur humain *(il se protège contre les attaques par déni de service DoS)*.\n",
    "\n",
    "Pour cette raison, pour vous permettre d'être plus efficaces dans cette étape, et la fraîcheur des informations récupérées n'étant pas un critère fondamental pour votre application, nous vous fournissons un fichier zip par continent, contenant pour chacun des pays concernés un fichier au format json avec le contenu de l'infobox tel que récupéré sur la page wikipédia.\n",
    "\n",
    "<img src=\"south_america_zip.png\" width=\"400\" style=\"border:1px solid #1883d7; box-shadow:3px 3px 3px #888\">\n",
    "<div style=\"text-align:center; font-size:80%; margin-top:0.5em\">Contenu du fichier south_america.zip</div>\n",
    "\n",
    "Le nom des fichiers json correspond au nom de la page wikipédia du pays, et au champ que nous avons nommé <code>wp</code> dans la base de données.\n",
    "\n",
    "<b>Rappel :</b> Affectation des continents aux groupes de projet :\n",
    "* projet A : Afrique\n",
    "* projet B : Asie\n",
    "* projet C : Europe\n",
    "* projet D : Amérique du nord\n",
    "* projet E : Amérique du sud et Océanie\n",
    "\n",
    "Pour information, la liste des pays par continents peut également se trouver sur le site https://www.countries-ofthe-world.com/. "
   ]
  },
  {
   "cell_type": "markdown",
   "metadata": {},
   "source": [
    "<b>3.2. Initialisation de la base</b>\n",
    "\n",
    "<div style=\"background-color:#ded;padding:10px;border-radius:3px\">\n",
    "<b>TODO - </b> Ecrire un programme qui parcourt le contenu du (ou des) fichier(s) zip qui vous concerne(nt) et écrit dans la base de données les informations extraites de l'infobox de chacun des pays à l'aide des fonctions précédemment développées.\n",
    "</div>\n",
    "<p>\n",
    "Voici comment obtenir la liste des documents contenus dans un fichier zip et récupérer le contenu d'une infobox <i>(à vous de généraliser)</i> :\n",
    "</p>"
   ]
  },
  {
   "cell_type": "code",
   "execution_count": 3,
   "metadata": {
    "scrolled": true
   },
   "outputs": [
    {
     "name": "stdout",
     "output_type": "stream",
     "text": [
      "['Afghanistan.json', 'Armenia.json', 'Azerbaijan.json', 'Bahrain.json', 'Bangladesh.json', 'Bhutan.json', 'Brunei.json', 'Cambodia.json', 'China.json', 'Cyprus.json', 'United_Arab_Emirates.json', 'Georgia_(country).json', 'India.json', 'Indonesia.json', 'Iran.json', 'Iraq.json', 'Israel.json', 'Japan.json', 'Jordan.json', 'Kazakhstan.json', 'Kuwait.json', 'Kyrgyzstan.json', 'Laos.json', 'Lebanon.json', 'Malaysia.json', 'Maldives.json', 'Mongolia.json', 'Myanmar.json', 'Nepal.json', 'North_Korea.json', 'Oman.json', 'Pakistan.json', 'State_of_Palestine.json', 'Philippines.json', 'Qatar.json', 'Russia.json', 'Saudi_Arabia.json', 'Singapore.json', 'South_Korea.json', 'Sri_Lanka.json', 'Syria.json', 'Taiwan.json', 'Tajikistan.json', 'Thailand.json', 'East_Timor.json', 'Turkey.json', 'Turkmenistan.json', 'Uzbekistan.json', 'Vietnam.json', 'Yemen.json']\n",
      "\n",
      "{'conventional_long_name': 'Kingdom of Cambodia', 'common_name': 'Cambodia', 'native_name': \"{{ubl|native name|km|ព្រះរាជាណាចក្រកម្ពុជា|italics|=|off|''prĕəh riəciənaacak kampuciə''<br />|small|([[Romanization of Khmer|Khmer romanization]])|native name|fr|Royaume du Cambodge}} {{native name|km|ព្រះរាជាណាចក្រកម្ពុជា|italics|=|off}} {{small|([[Romanization of Khmer|Khmer romanization]])}} {{native name|fr|Royaume du Cambodge}}\", 'image_flag': 'Flag of Cambodia.svg', 'image_coat': 'Royal arms of Cambodia.svg', 'symbol_type': 'Royal arms', 'national_motto': '<br /> {{lang|km|ជាតិ សាសនា ព្រះមហាក្សត្រ}} <br />\"Nation, Religion, King\"', 'national_anthem': '{{vunblist|\"[[Nokor Reach]]\"|lang|km|បទនគររាជ|\"Majestic Kingdom\"}} <div style=\"padding-top:0.5em;\">[[File:United States Navy Band - Nokoreach.ogg|center]]</div> {{lang|km|បទនគររាជ}}', 'image_map': 'Location Cambodia ASEAN.svg', 'map_caption': '{{map caption |location_color|=|green |region|=|[[ASEAN]] |region_color|=|dark grey |legend|=|Location Cambodia ASEAN.svg}}', 'capital': '[[Phnom Penh]]', 'coordinates': '{{Coord|11|33|N|104|55|E|type:city|display|=|inline,title}}', 'largest_city': 'capital', 'official_languages': '[[Khmer language|Khmer]]', 'languages_type': 'Spoken languages', 'languages': '{{hlist|[[Khmer language|Khmer]] | [[Cham language|Cham]] | [[English Language|English]] | [[French language|French]]}}', 'languages2_type': 'Official script', 'languages2': '[[Khmer script|Khmer]]', 'ethnic_groups': '{{unbulleted list\\n  | 97.6% [[Khmer people|Khmer]]\\n  | 1.2% [[Chams]]\\n  | 0.1% [[Vietnamese Cambodian|Vietnamese]]\\n  | 0.1% [[Chinese Cambodian|Chinese]]\\n  | 1% [[Demographics of Cambodia|other]]}}', 'ethnic_groups_year': '2013', 'religion': '{{unbulleted list\\n  | 96.9% [[Buddhism in Cambodia|Buddhism]] (official) \\n  | 2.0% [[Islam in Cambodia|Islam]]\\n  | 0.5% [[Folk religion]] \\n  | 0.4% [[Christianity in Cambodia|Christianity]]\\n  | 0.2% [[Irreligion|unaffiliated]]}}', 'religion_year': '2010', 'demonym': '{{hlist|Cambodian | Khmer}}', 'government_type': \"[[Unitary state|Unitary]] [[dominant-party system|dominant-party]] [[parliamentary system|parliamentary]] [[Elective monarchy|elective]] [[constitutional monarchy]] (''de jure'') under a [[one-party state|one-party]] [[authoritarianism|authoritarian dictatorship]] (''de facto'')\", 'leader_title1': '[[Monarchy of Cambodia|King]]', 'leader_name1': '[[Norodom Sihamoni]]', 'leader_title2': '[[Prime Minister of Cambodia|Prime Minister]]', 'leader_name2': '[[Hun Sen]]', 'leader_title3': '[[List of presidents of the Senate of Cambodia|President of the Senate]]', 'leader_name3': '[[Say Chhum]]', 'leader_title4': '[[List of presidents of the National Assembly of Cambodia|President of the National Assembly]]', 'leader_name4': '[[Heng Samrin]]', 'legislature': '[[Parliament of Cambodia|Parliament]]', 'upper_house': '[[Senate of Cambodia|Senate]]', 'lower_house': '[[National Assembly of Cambodia|National Assembly]]', 'sovereignty_type': '[[History of Cambodia|Formation]]', 'established_event1': '[[Funan|Funan Empire]]', 'established_date1': '50/68 AD–550 AD', 'established_event2': '[[Chenla|Chenla Empire]]', 'established_date2': '550–802', 'established_event3': '[[Khmer Empire|Angkor Empire]]', 'established_date3': '802–1431', 'established_event4': '[[Dark ages of Cambodia|Middle Period]]', 'established_date4': '1431–1863', 'established_event5': '{{nowrap|[[Cambodian independence movement|Independence]]<br />(from [[French colonial empire|France]])}}', 'established_date5': '9 November 1953', 'established_event6': '[[United Nations Security Council Resolution 109|Admitted to the]] [[United Nations]]', 'established_date6': '14 December 1955', 'established_event7': '{{nowrap|[[1991 Paris Peace Accords|Paris Peace Accords]]}}', 'established_date7': '23 October 1991', 'established_event8': '{{nowrap|[[Constitution of Cambodia|Current constitution]]}}', 'established_date8': '24 September 1993', 'established_event9': '[[ASEAN Declaration]]', 'established_date9': '30 April 1999', 'area_km2': '181,035', 'area_rank': '88th', 'area_sq_mi': '69,898', 'percent_water': '2.5', 'population_census': '{{increase}} 15,288,489 {{efn|Figure excludes 1,235,993 migrants working abroad.}}', 'population_census_rank': '73rd', 'population_census_year': 'March 2019', 'population_density_km2': '86', 'population_density_sq_mi': '211.8', 'population_density_rank': '96th', 'GDP_PPP': '$70.242&nbsp;billion', 'GDP_PPP_year': '2018', 'GDP_PPP_per_capita': '$4,322', 'GDP_nominal': 'US$24.360&nbsp;billion', 'GDP_nominal_year': '2018', 'GDP_nominal_per_capita': 'US$1,559', 'Gini': '31.8', 'Gini_year': '2011', 'HDI': '0.582', 'HDI_year': '2017', 'HDI_change': 'increase', 'HDI_rank': '146th', 'currency': '[[Cambodian riel|Riel]]', 'currency_code': 'KHR', 'time_zone': '[[Indochina Time|ICT]]', 'utc_offset': '+7', 'date_format': 'dd/mm/yyyy', 'drives_on': 'right', 'calling_code': '[[Telephone numbers in Cambodia|+855]]', 'cctld': '[[.kh]]'}\n"
     ]
    }
   ],
   "source": [
    "from zipfile import ZipFile\n",
    "import json\n",
    "\n",
    "with ZipFile('asia.zip','r') as z:\n",
    "    \n",
    "    # liste des documents contenus dans le fichier zip\n",
    "    print(z.namelist())\n",
    "    print()\n",
    "    \n",
    "    # infobox de l'un des pays\n",
    "    info = json.loads(z.read('Cambodia.json'))\n",
    "    print(info)"
   ]
  },
  {
   "cell_type": "code",
   "execution_count": 22,
   "metadata": {
    "util.bundle": "correcteur",
    "util.bundle.source": [
     "#\n",
     "# Initialisation des informations dans la base de données\n",
     "#"
    ]
   },
   "outputs": [
    {
     "name": "stdout",
     "output_type": "stream",
     "text": [
      "Afghanistan\n",
      "Armenia\n",
      "Azerbaijan\n",
      "Bahrain\n",
      "Bangladesh\n",
      "Bhutan\n",
      "Brunei\n",
      "Cambodia\n",
      "China\n",
      "Cyprus\n",
      "United_Arab_Emirates\n",
      "Georgia_(country)\n",
      "India\n",
      "Indonesia\n",
      "Iran\n",
      "Iraq\n",
      "Israel\n",
      "Japan\n",
      "Jordan\n",
      "Kazakhstan\n",
      "Kuwait\n",
      "Kyrgyzstan\n",
      "Laos\n",
      "Lebanon\n",
      "Malaysia\n",
      "coordonnées de la capitale\n",
      "Maldives\n",
      "coordonnées de la capitale\n",
      "Mongolia\n",
      "Myanmar\n",
      "Nepal\n",
      "North_Korea\n",
      "Oman\n",
      "Pakistan\n",
      "State_of_Palestine\n",
      "coordonnées de la capitale\n",
      "Philippines\n",
      "Qatar\n",
      "Russia\n",
      "Saudi_Arabia\n",
      "Singapore\n",
      "South_Korea\n",
      "Sri_Lanka\n",
      "Syria\n",
      "Taiwan\n",
      "Tajikistan\n",
      "Thailand\n",
      "East_Timor\n",
      "Turkey\n",
      "Turkmenistan\n",
      "Uzbekistan\n",
      "Vietnam\n",
      "Yemen\n",
      "coordonnées de la capitale\n"
     ]
    }
   ],
   "source": [
    "#\n",
    "# Initialisation des informations dans la base de données\n",
    "#\n",
    "from zipfile import ZipFile\n",
    "import json\n",
    "continent='asia'\n",
    "with ZipFile('asia.zip','r') as z:\n",
    "    files=z.namelist()\n",
    "    for f in files:\n",
    "        country=f.split('.')[0]\n",
    "        print(country)\n",
    "        info=json.loads(z.read(f))\n",
    "        save_country(conn,country,info)"
   ]
  },
  {
   "cell_type": "markdown",
   "metadata": {},
   "source": [
    "<b>3.3. S'amuser avec le contenu de la base de données</b>\n",
    "\n",
    "Maintenant que nous disposons des coordonnées d'un certain nombre de capitales, il est d'ores et déjà possible de construire des requêtes SQL pour répondre à des questions comme :\n",
    "\n",
    "* Quel est le pays (avec sa capitale et ses coordonnées) dont la capitale se situe le plus au nord ?\n",
    "* Quel est le pays (avec sa capitale et ses coordonnées) dont la capitale se situe le plus à l'est ?\n",
    "* Quels sont les pays dont la capitale se situe plus au nord que celle d'un pays donné ?\n",
    "* Quel est le pays dont la capitale se trouve le plus près de celle d'un pays donné ?\n",
    "* ad libitum...\n",
    "\n",
    "<div style=\"background-color:#ded;padding:10px;border-radius:3px\">\n",
    "<b>SUGGESTION - </b> Se prendre au jeu et imaginer les requêtes SQL permettant de répondre à certaines de ces questions..."
   ]
  },
  {
   "cell_type": "code",
   "execution_count": 20,
   "metadata": {
    "util.bundle": "correcteur"
   },
   "outputs": [],
   "source": [
    "#\n",
    "# Lecture d'un unique enregistrement dans la base de données\n",
    "#\n",
    "def db_request(conn,sql,data=[]):\n",
    "    c = conn.cursor()\n",
    "    c.execute(sql,data)\n",
    "    r = c.fetchone()\n",
    "    return r\n",
    "\n",
    "# pour accéder au résultat sous forme d'un dictionnaire\n",
    "conn.row_factory = sqlite3.Row"
   ]
  },
  {
   "cell_type": "code",
   "execution_count": null,
   "metadata": {},
   "outputs": [],
   "source": [
    "#\n",
    "# La capitale la plus au nord\n",
    "#\n",
    "sql = '''\n",
    "  SELECT name, capital, latitude, longitude\n",
    "    FROM countries\n",
    "    WHERE latitude IN (SELECT MAX(latitude) FROM countries)\n",
    "'''\n",
    "r = db_request(conn,sql)\n",
    "print([r[k] for k in r.keys()])"
   ]
  },
  {
   "cell_type": "code",
   "execution_count": null,
   "metadata": {},
   "outputs": [],
   "source": [
    "#\n",
    "# La capitale la plus à l'est\n",
    "#\n",
    "sql = '''\n",
    "  SELECT name, capital, latitude, longitude\n",
    "    FROM countries\n",
    "    WHERE longitude IN (SELECT MAX(longitude) FROM countries)\n",
    "'''\n",
    "r = db_request(conn,sql)\n",
    "print([r[k] for k in r.keys()])"
   ]
  },
  {
   "cell_type": "code",
   "execution_count": null,
   "metadata": {},
   "outputs": [],
   "source": [
    "#\n",
    "# La capitale la plus à l'ouest\n",
    "#\n",
    "sql = '''\n",
    "  SELECT name capital, latitude, longitude\n",
    "    FROM countries\n",
    "    WHERE longitude IN (SELECT MIN(longitude) FROM countries)\n",
    "'''\n",
    "r = db_request(conn,sql)\n",
    "print([r[k] for k in r.keys()])"
   ]
  },
  {
   "cell_type": "code",
   "execution_count": null,
   "metadata": {},
   "outputs": [],
   "source": [
    "#\n",
    "# Capitales plus au nord que Moscou\n",
    "#\n",
    "sql = '''\n",
    "  SELECT name, capital, latitude, longitude\n",
    "    FROM countries\n",
    "    WHERE latitude > (SELECT latitude FROM countries WHERE capital=\"Moscow\")\n",
    "'''\n",
    "r = db_request_all(conn,sql)\n",
    "for a in r:\n",
    "    print([a[k] for k in a.keys()])"
   ]
  },
  {
   "cell_type": "code",
   "execution_count": null,
   "metadata": {},
   "outputs": [],
   "source": [
    "#\n",
    "# Capitale la plus proche de Rome \n",
    "# coordonnées de Rome\n",
    "sql = '''\n",
    "  SELECT latitude,longitude FROM countries WHERE capital=\"Rome\"\n",
    "'''\n",
    "r = db_request(conn,sql)\n",
    "(lat,lon) = r\n",
    "\n",
    "# minimum de différence de coordonnées avec Rome\n",
    "sql = '''\n",
    "  SELECT MIN((latitude-?)*(latitude-?)+(longitude-?)*(longitude-?))\n",
    "    FROM countries\n",
    "    WHERE capital <> \"Rome\"\n",
    "'''\n",
    "r = db_request(conn,sql,(lat,lat,lon,lon))\n",
    "d = r[0]\n",
    "\n",
    "# capitale dont la différence de coordonnées est égale au mimimum\n",
    "sql = '''\n",
    "  SELECT name, capital, latitude, longitude\n",
    "    FROM countries\n",
    "    WHERE ((latitude-?)*(latitude-?)+(longitude-?)*(longitude-?))=?\n",
    "'''\n",
    "r = db_request(conn,sql,(lat,lat,lon,lon,d))\n",
    "print([r[k] for k in r.keys()])"
   ]
  },
  {
   "cell_type": "markdown",
   "metadata": {},
   "source": [
    "<b>3.4. Renseigner la base avec l'ensemble des informations nécessaires au fonctionnement de l'application rêvée</b>\n",
    "\n",
    "Les informations actuellement collectées permettront de réaliser une application minimale.\n",
    "\n",
    "Pour aller plus loin, il sera pertinent de réfléchir aux données que vous voulez récupérer et exploiter pour votre projet. Pour cela il sera utile d'effectuer les étapes suivantes :\n",
    "\n",
    "<div style=\"background-color:#ded;padding:10px;border-radius:3px;margin-top:1.33em\">\n",
    "<b>TODO - Travail en groupe de projet </b>\n",
    "\n",
    "<ul>\n",
    "<li> analyser le contenu de l'infobox pays des pages wikipédia pour retenir les informations qui vous intéressent, et noter le nom de la clé de chacune de ces données dans l'infobox,\n",
    "\n",
    "<li> sur le modèle de <code>get_name()</code> et <code>get\\_capital()</code>, créer une fonction <code>get_\\*()</code> pour chacune des informations retenues pour extraire les données correspondantes de l'infobox et les mettre en forme,\n",
    "\n",
    "<li> modifier la table \"countries\" pour ajouter les champs nécessaires,\n",
    "\n",
    "<li> modifier la fonction <code>save_country</code> <i>(pour remplir la base en repartant d'une base vide)</i> ou créer une fonction <code>update_country</code> <i>(afin de compléter les enregistrements existants dans la base)</i> pour tenir compte de tous les champs.\n",
    "</ul>\n",
    "\n",
    "<p>\n",
    "<b>N.B.</b> Vous trouverez des informations plus détaillées sur cette démarche, et notamment une liste de clés exploitables dans l'ensemble des infoboxes, dans le notebook dédié au projet.\n",
    "</div>\n",
    "\n",
    "<p>\n",
    "Après avoir par exemple créé un champ nommé \"continent\" dans la table \"countries\" :\n",
    "<p>\n",
    "<img src=\"table_countries_continent.png\" style=\"width:500px;border:1px solid #ccc; box-shadow:3px 3px 3px #888\">\n",
    "<div style=\"text-align:center; font-size:80%; margin-top:0.5em\">Table countries après ajout du champ continent</div>\n",
    "\n",
    "... voici une fonction permettant d'ajouter le nom du continent à un enregistrement déjà présent dans la base :"
   ]
  },
  {
   "cell_type": "code",
   "execution_count": 29,
   "metadata": {},
   "outputs": [],
   "source": [
    "#\n",
    "# Mise à jour du continent d'un pays dans la base de données \n",
    "#\n",
    "def update_country_continent(conn,country,continent):\n",
    "    \n",
    "    # préparation de la commande SQL\n",
    "    c = conn.cursor()\n",
    "    sql = 'UPDATE countries SET continent=? WHERE wp=?'\n",
    "\n",
    "    # soumission de la commande (noter que le second argument est un tuple)\n",
    "    c.execute(sql,(continent,country))\n",
    "    conn.commit()\n",
    "    \n"
   ]
  },
  {
   "cell_type": "code",
   "execution_count": 22,
   "metadata": {
    "collapsed": true,
    "util.bundle": "correcteur"
   },
   "outputs": [],
   "source": [
    "#\n",
    "# Récupération des informations d'un pays depuis la base de données\n",
    "#\n",
    "def get_country(conn,country):\n",
    "    \n",
    "    # pour accéder au résultat sous forme d'un dictionnaire\n",
    "    conn.row_factory = sqlite3.Row\n",
    "    \n",
    "    # préparation de la commande SQL\n",
    "    c = conn.cursor()\n",
    "    sql = 'SELECT * FROM countries WHERE wp=?'\n",
    "\n",
    "    # récupération de l'information (ou pas)\n",
    "    c.execute(sql,(country,))\n",
    "    r = c.fetchone()\n",
    "    \n",
    "    return r"
   ]
  },
  {
   "cell_type": "code",
   "execution_count": 23,
   "metadata": {
    "collapsed": true
   },
   "outputs": [],
   "source": []
  }
 ],
 "metadata": {
  "kernelspec": {
   "display_name": "Python 3",
   "language": "python",
   "name": "python3"
  },
  "language_info": {
   "codemirror_mode": {
    "name": "ipython",
    "version": 3
   },
   "file_extension": ".py",
   "mimetype": "text/x-python",
   "name": "python",
   "nbconvert_exporter": "python",
   "pygments_lexer": "ipython3",
   "version": "3.7.4"
  }
 },
 "nbformat": 4,
 "nbformat_minor": 2
}
